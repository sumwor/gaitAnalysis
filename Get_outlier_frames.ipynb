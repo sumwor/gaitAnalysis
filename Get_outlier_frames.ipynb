{
 "cells": [
  {
   "cell_type": "markdown",
   "source": [
    "# read Deeplabcut labelling result, find outliers, plot frames with keypoints\n",
    "# experimenter can manually go through the frames and select several for next DLC training iteration"
   ],
   "metadata": {
    "collapsed": false
   },
   "id": "a207fef4f59bcdcd"
  },
  {
   "cell_type": "code",
   "outputs": [],
   "source": [
    "import gaitAnalysis"
   ],
   "metadata": {
    "collapsed": false,
    "ExecuteTime": {
     "end_time": "2024-11-05T02:54:52.914600Z",
     "start_time": "2024-11-05T02:54:50.088590Z"
    }
   },
   "id": "9d88ecb281a09eeb",
   "execution_count": 1
  },
  {
   "cell_type": "code",
   "outputs": [],
   "source": [
    "root_dir = r'Z:\\HongliWang\\Rotarod\\TSC_rotarod'\n",
    "dataFolder = os.path.join(root_dir,'Data')\n",
    "fps = 0\n",
    "\n",
    "groups = ['Ctrl', 'Exp']\n",
    "behavior = 'Rotarod'\n",
    "DLCSum = gaitAnalysis.DLC_Rotarod(root_dir, fps, groups,behavior)\n",
    "DLCSum.plot_outlier_frames()\n"
   ],
   "metadata": {
    "collapsed": false
   },
   "id": "cd2bc6caca4dc072"
  }
 ],
 "metadata": {
  "kernelspec": {
   "display_name": "Python 3",
   "language": "python",
   "name": "python3"
  },
  "language_info": {
   "codemirror_mode": {
    "name": "ipython",
    "version": 2
   },
   "file_extension": ".py",
   "mimetype": "text/x-python",
   "name": "python",
   "nbconvert_exporter": "python",
   "pygments_lexer": "ipython2",
   "version": "2.7.6"
  }
 },
 "nbformat": 4,
 "nbformat_minor": 5
}
